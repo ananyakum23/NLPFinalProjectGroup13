{
 "cells": [
  {
   "cell_type": "code",
   "execution_count": 42,
   "metadata": {},
   "outputs": [],
   "source": [
    "import pandas as pd"
   ]
  },
  {
   "cell_type": "code",
   "execution_count": 43,
   "metadata": {},
   "outputs": [],
   "source": [
    "twitter = pd.read_csv(\"./Tweets.csv\")\n",
    "imdb = pd.read_csv(\"./IMDB Dataset.csv\")"
   ]
  },
  {
   "cell_type": "code",
   "execution_count": 44,
   "metadata": {},
   "outputs": [
    {
     "name": "stdout",
     "output_type": "stream",
     "text": [
      "{'negativereason_confidence', 'airline', 'airline_sentiment_confidence', 'tweet_coord', 'airline_sentiment_gold', 'retweet_count', 'tweet_id', 'tweet_created', 'user_timezone', 'tweet_location', 'negativereason_gold', 'name', 'negativereason'}\n"
     ]
    }
   ],
   "source": [
    "# twitter.columns\n",
    "columns_to_drop = set(twitter.columns) - set(['airline_sentiment', 'text'])\n",
    "print(columns_to_drop)\n",
    "twitter = twitter.drop(columns_to_drop, axis=1)\n"
   ]
  },
  {
   "cell_type": "code",
   "execution_count": 45,
   "metadata": {},
   "outputs": [
    {
     "name": "stdout",
     "output_type": "stream",
     "text": [
      "          label                                               text\n",
      "1      positive  @VirginAmerica plus you've added commercials t...\n",
      "3      negative  @VirginAmerica it's really aggressive to blast...\n",
      "4      negative  @VirginAmerica and it's a really big bad thing...\n",
      "5      negative  @VirginAmerica seriously would pay $30 a fligh...\n",
      "6      positive  @VirginAmerica yes, nearly every time I fly VX...\n",
      "...         ...                                                ...\n",
      "14633  negative  @AmericanAir my flight was Cancelled Flightled...\n",
      "14634  negative         @AmericanAir right on cue with the delays👌\n",
      "14635  positive  @AmericanAir thank you we got on a different f...\n",
      "14636  negative  @AmericanAir leaving over 20 minutes Late Flig...\n",
      "14638  negative  @AmericanAir you have my money, you change my ...\n",
      "\n",
      "[11541 rows x 2 columns]\n"
     ]
    }
   ],
   "source": [
    "twitter.rename({'airline_sentiment': 'label', 'text': 'text'}, axis = 1, inplace=True)\n",
    "twitter_no_neutral = twitter\n",
    "\n",
    "twitter_no_neutral = twitter.drop(twitter[twitter['label'] == 'neutral'].index)\n",
    "print(twitter_no_neutral)\n",
    "\n",
    "\n",
    "# what to do with neutral??\n",
    "# All we need is tweet and label??\n",
    "# If so cleaning can be done really quick and I'm almost done\n",
    "\n",
    "twitter.to_csv(\"./twitter_cleaned.csv\", index=False)\n",
    "twitter_no_neutral.to_csv(\"./twitter_no_neutral_cleaned.csv\", index=False)\n",
    "\n",
    "\n"
   ]
  },
  {
   "cell_type": "code",
   "execution_count": 48,
   "metadata": {},
   "outputs": [],
   "source": [
    "\n",
    "imdb.rename({'sentiment':'label', 'review': 'text'}, inplace=True, axis = 1)\n",
    "imdb.to_csv(\"./imdb_cleaned.csv\", index=False)"
   ]
  },
  {
   "cell_type": "code",
   "execution_count": null,
   "metadata": {},
   "outputs": [],
   "source": []
  }
 ],
 "metadata": {
  "kernelspec": {
   "display_name": "Python 3",
   "language": "python",
   "name": "python3"
  },
  "language_info": {
   "codemirror_mode": {
    "name": "ipython",
    "version": 3
   },
   "file_extension": ".py",
   "mimetype": "text/x-python",
   "name": "python",
   "nbconvert_exporter": "python",
   "pygments_lexer": "ipython3",
   "version": "3.10.11"
  }
 },
 "nbformat": 4,
 "nbformat_minor": 2
}
