{
 "cells": [
  {
   "cell_type": "code",
   "execution_count": 2,
   "metadata": {},
   "outputs": [],
   "source": [
    "import pandas as pd\n",
    "\n"
   ]
  },
  {
   "cell_type": "code",
   "execution_count": 3,
   "metadata": {},
   "outputs": [
    {
     "name": "stdout",
     "output_type": "stream",
     "text": [
      "          label                                               text\n",
      "0       neutral                @VirginAmerica What @dhepburn said.\n",
      "1      positive  @VirginAmerica plus you've added commercials t...\n",
      "2       neutral  @VirginAmerica I didn't today... Must mean I n...\n",
      "3      negative  @VirginAmerica it's really aggressive to blast...\n",
      "4      negative  @VirginAmerica and it's a really big bad thing...\n",
      "...         ...                                                ...\n",
      "14635  positive  @AmericanAir thank you we got on a different f...\n",
      "14636  negative  @AmericanAir leaving over 20 minutes Late Flig...\n",
      "14637   neutral  @AmericanAir Please bring American Airlines to...\n",
      "14638  negative  @AmericanAir you have my money, you change my ...\n",
      "14639   neutral  @AmericanAir we have 8 ppl so we need 2 know h...\n",
      "\n",
      "[14640 rows x 2 columns]\n"
     ]
    }
   ],
   "source": [
    "twitter = pd.read_csv(\"twitter_cleaned.csv\")\n",
    "print(twitter)\n",
    " \n",
    "with open(\"twitter_actual.tsv\", 'w',  encoding=\"utf-8\") as f:\n",
    "    for text in twitter['text']:\n",
    "        print(text, file=f)\n",
    "\n",
    "\n",
    "\n"
   ]
  },
  {
   "cell_type": "code",
   "execution_count": 9,
   "metadata": {},
   "outputs": [],
   "source": [
    "twitter = pd.read_csv(\"imdb_cleaned.csv\")\n",
    "\n",
    "# twitter['label'] == 'positive'\n",
    "negative = twitter.loc[twitter['label'] == 'positive']\n",
    "with open(\"imdbpositive.tsv\", 'w',  encoding=\"utf-8\") as f:\n",
    "    for text in negative['text']:\n",
    "        print(text, file=f)"
   ]
  }
 ],
 "metadata": {
  "kernelspec": {
   "display_name": "Python 3",
   "language": "python",
   "name": "python3"
  },
  "language_info": {
   "codemirror_mode": {
    "name": "ipython",
    "version": 3
   },
   "file_extension": ".py",
   "mimetype": "text/x-python",
   "name": "python",
   "nbconvert_exporter": "python",
   "pygments_lexer": "ipython3",
   "version": "3.10.11"
  }
 },
 "nbformat": 4,
 "nbformat_minor": 2
}
